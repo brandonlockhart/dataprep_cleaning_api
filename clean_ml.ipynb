{
 "cells": [
  {
   "cell_type": "markdown",
   "metadata": {},
   "source": [
    "# `clean_ml()`: prepare data for ML with one line of code\n",
    "\n",
    "## Motivation\n",
    "Preparing data for Machine Learning is a difficult, tedious, and time consuming process. In order to mitigate these difficulties, we propose the function `clean_ml()` which is designed to transform an arbitrary tabular dataset into a format that's suitable for a typical ML application.\n",
    "\n",
    "## Features\n",
    "The function `clean_ml()` does the following alterations to the data frame:\n",
    "\n",
    "1. **Reformat column names**. This feature follows the R library Janitor's `clean_names()` [function](http://sfirke.github.io/janitor/articles/janitor.html#clean-data-frame-names-with-clean_names). It applies the following alterations to the column names:\n",
    "\n",
    " a. Parses letter cases and separators to a consistent format snake_case <br>\n",
    " b. Handles special characters and spaces, including transliterating characters like œ to oe.<br>\n",
    " c. Appends numbers to duplicated names <br>\n",
    " d. Converts \"%\" to \"percent\" and \"#\" to \"number\" to retain meaning <br>\n",
    " e. Spacing (or lack thereof) around numbers is preserved <br>\n",
    " \n",
    "2. **Drop rows with missing values**. The user can optionally drop all rows that contain missing values.\n",
    "\n",
    "3. **Missing value imputation**. Impute the **mode** for categorical variables and **mean** for numerical variables to replace missing values and infinities.\n",
    "\n",
    "4. **Drop uninformative columns**. Drop columns satisfying any of the following criteria:\n",
    " \n",
    " a. The column contains over 30 unique nominal values<br>\n",
    " b. More than 70% of the column's values are missing<br>\n",
    " c. There is a value that accounts for more than 70% of the column<br>\n",
    " d. A column contains integers and over 99% of the values are unique (likely an id column)<br>\n",
    " \n",
    "5. **Transform numerical columns**. Either *standard_scaler* (default), or *minmax_scaler* applied to all numerical columns. <br>\n",
    "    Standard-scaler formula:\n",
    "    $$x' = \\frac{x - mean(x)}{std(x)}$$\n",
    "    Minmax-scaler formula:\n",
    "    $$x' = \\frac{x - min(x)}{max(x) - min(x)}$$\n",
    "    \n",
    "6. **Dummy encode categorical variables**.\n",
    "\n",
    "7. **Downcast**. The memory unit should be appropriate and as small as possible for each column in the data frame.\n",
    "\n",
    "# The function `clean_ml()`"
   ]
  },
  {
   "cell_type": "code",
   "execution_count": null,
   "metadata": {},
   "outputs": [],
   "source": [
    "def clean_ml(\n",
    "    df: Union[pd.DataFrame, dd.DataFrame],\n",
    "    handle_missing_values: str = \"impute\", # or \"drop\"\n",
    "    numerical_transform: str = \"standard_scaler\", # or \"minmax_scaler\", None\n",
    "#     one_hot_enocde: bool = True,\n",
    "    max_nominal_values: int = 30, # drop columns with more than 30 unique categorical values\n",
    "    max_missing_values_percent: float = 70,\n",
    "    max_repeated_value_percent: float = 70,\n",
    "    max_unique_integers_percent: float = 99,\n",
    "#     drop_columns_with = {}\n",
    "    include_components = {\"onehot\": True, }\n",
    "    exclude_components = {}\n",
    "    \n",
    ")"
   ]
  },
  {
   "cell_type": "markdown",
   "metadata": {},
   "source": [
    "## Parameters\n",
    "\n",
    "* `df`: Union[*pandas.DataFrame, dask.DataFrame*] &mdash; the data frame to be transformed \n",
    "* `handle_missing_values`: str, *\\\"impute\\\" or \\\"drop\\\"*, (*\\\"impute\\\"* by default) &mdash; how to deal with missing values\n",
    "* `numerical_transformation`: str, *\\\"standard_scaler\\\", \\\"minmax_scaler\\\"*, or *None*, (*\\\"standard_scaler\\\"* by default) &mdash; how to transform numerical columns\n",
    "* `max_unique_nominal_values`: int, default 30 &mdash; the maximum number of unique nominal values in a column\n",
    "* `max_missing_values_percent`: float, default 70 &mdash; the maximum percent of values that can be missing from a column\n",
    "* `max_repeated_value_percent`: float, default 70 &mdash; the maximum percent a value can repeat in a column\n",
    "* `max_unique_integers_percent`: float, default 99 &mdash; the maximum percent of unique values in an integer column\n",
    "\n",
    "\n",
    "## Returns\n",
    "\n",
    "The cleaned data frame in the form (pandas or Dask) that it was passed to `clean_ml()`\n",
    "\n",
    "## Console Output\n",
    "\n",
    "Text output detailing what alterations have been made to the dataframe\n",
    "\n",
    "## Example\n",
    "\n",
    "Consider the following dataset, and pass it to `clean_ml()`"
   ]
  },
  {
   "cell_type": "code",
   "execution_count": 7,
   "metadata": {
    "ExecuteTime": {
     "end_time": "2020-07-27T15:56:48.618200Z",
     "start_time": "2020-07-27T15:56:48.598538Z"
    }
   },
   "outputs": [
    {
     "data": {
      "text/html": [
       "<div>\n",
       "<style scoped>\n",
       "    .dataframe tbody tr th:only-of-type {\n",
       "        vertical-align: middle;\n",
       "    }\n",
       "\n",
       "    .dataframe tbody tr th {\n",
       "        vertical-align: top;\n",
       "    }\n",
       "\n",
       "    .dataframe thead th {\n",
       "        text-align: right;\n",
       "    }\n",
       "</style>\n",
       "<table border=\"1\" class=\"dataframe\">\n",
       "  <thead>\n",
       "    <tr style=\"text-align: right;\">\n",
       "      <th></th>\n",
       "      <th>MissingNumerical</th>\n",
       "      <th>MISSING CATEGORICAL</th>\n",
       "      <th>too many unique categorical values</th>\n",
       "      <th>Too Many Missing</th>\n",
       "      <th>too many repeated values</th>\n",
       "    </tr>\n",
       "  </thead>\n",
       "  <tbody>\n",
       "    <tr>\n",
       "      <th>0</th>\n",
       "      <td>1.0</td>\n",
       "      <td>dog</td>\n",
       "      <td>red</td>\n",
       "      <td>NaN</td>\n",
       "      <td>dog</td>\n",
       "    </tr>\n",
       "    <tr>\n",
       "      <th>1</th>\n",
       "      <td>NaN</td>\n",
       "      <td>cat</td>\n",
       "      <td>orange</td>\n",
       "      <td>NaN</td>\n",
       "      <td>dog</td>\n",
       "    </tr>\n",
       "    <tr>\n",
       "      <th>2</th>\n",
       "      <td>2.0</td>\n",
       "      <td>cat</td>\n",
       "      <td>yellow</td>\n",
       "      <td>NaN</td>\n",
       "      <td>dog</td>\n",
       "    </tr>\n",
       "    <tr>\n",
       "      <th>3</th>\n",
       "      <td>NaN</td>\n",
       "      <td>NaN</td>\n",
       "      <td>green</td>\n",
       "      <td>hello</td>\n",
       "      <td>dog</td>\n",
       "    </tr>\n",
       "    <tr>\n",
       "      <th>4</th>\n",
       "      <td>3.0</td>\n",
       "      <td>cat</td>\n",
       "      <td>blue</td>\n",
       "      <td>NaN</td>\n",
       "      <td>cat</td>\n",
       "    </tr>\n",
       "  </tbody>\n",
       "</table>\n",
       "</div>"
      ],
      "text/plain": [
       "   MissingNumerical MISSING CATEGORICAL too many unique categorical values  \\\n",
       "0               1.0                 dog                                red   \n",
       "1               NaN                 cat                             orange   \n",
       "2               2.0                 cat                             yellow   \n",
       "3               NaN                 NaN                              green   \n",
       "4               3.0                 cat                               blue   \n",
       "\n",
       "  Too Many Missing too many repeated values  \n",
       "0              NaN                      dog  \n",
       "1              NaN                      dog  \n",
       "2              NaN                      dog  \n",
       "3            hello                      dog  \n",
       "4              NaN                      cat  "
      ]
     },
     "execution_count": 7,
     "metadata": {},
     "output_type": "execute_result"
    }
   ],
   "source": [
    "import pandas as pd\n",
    "df = pd.DataFrame({\n",
    "    \"MissingNumericaL\": [1, np.nan, 2, np.nan, 3],\n",
    "    \"MISSING CATEGORICAL\": [\"dog\", \"cat\", \"cat\", np.nan, \"cat\"],\n",
    "    \"Too Many Missing\": [np.nan, np.nan, np.nan, \"hello\", np.nan],\n",
    "    \"too many repeated values\": [\"dog\", \"dog\", \"dog\", \"dog\", \"cat\"],\n",
    "})\n",
    "clean_ml(df)"
   ]
  },
  {
   "cell_type": "markdown",
   "metadata": {},
   "source": [
    "The dataframe after cleaning is"
   ]
  },
  {
   "cell_type": "code",
   "execution_count": 11,
   "metadata": {
    "ExecuteTime": {
     "end_time": "2020-07-27T16:26:59.667482Z",
     "start_time": "2020-07-27T16:26:59.653357Z"
    },
    "code_folding": []
   },
   "outputs": [
    {
     "data": {
      "text/html": [
       "<div>\n",
       "<style scoped>\n",
       "    .dataframe tbody tr th:only-of-type {\n",
       "        vertical-align: middle;\n",
       "    }\n",
       "\n",
       "    .dataframe tbody tr th {\n",
       "        vertical-align: top;\n",
       "    }\n",
       "\n",
       "    .dataframe thead th {\n",
       "        text-align: right;\n",
       "    }\n",
       "</style>\n",
       "<table border=\"1\" class=\"dataframe\">\n",
       "  <thead>\n",
       "    <tr style=\"text-align: right;\">\n",
       "      <th></th>\n",
       "      <th>missing_numerical</th>\n",
       "      <th>missing_categorical_cat</th>\n",
       "      <th>missing_categorical_dog</th>\n",
       "    </tr>\n",
       "  </thead>\n",
       "  <tbody>\n",
       "    <tr>\n",
       "      <th>0</th>\n",
       "      <td>-1.414214</td>\n",
       "      <td>0</td>\n",
       "      <td>1</td>\n",
       "    </tr>\n",
       "    <tr>\n",
       "      <th>1</th>\n",
       "      <td>0.000000</td>\n",
       "      <td>1</td>\n",
       "      <td>0</td>\n",
       "    </tr>\n",
       "    <tr>\n",
       "      <th>2</th>\n",
       "      <td>0.000000</td>\n",
       "      <td>1</td>\n",
       "      <td>0</td>\n",
       "    </tr>\n",
       "    <tr>\n",
       "      <th>3</th>\n",
       "      <td>0.000000</td>\n",
       "      <td>1</td>\n",
       "      <td>0</td>\n",
       "    </tr>\n",
       "    <tr>\n",
       "      <th>4</th>\n",
       "      <td>1.414214</td>\n",
       "      <td>1</td>\n",
       "      <td>0</td>\n",
       "    </tr>\n",
       "  </tbody>\n",
       "</table>\n",
       "</div>"
      ],
      "text/plain": [
       "   missing_numerical  missing_categorical_cat  missing_categorical_dog\n",
       "0          -1.414214                        0                        1\n",
       "1           0.000000                        1                        0\n",
       "2           0.000000                        1                        0\n",
       "3           0.000000                        1                        0\n",
       "4           1.414214                        1                        0"
      ]
     },
     "execution_count": 11,
     "metadata": {},
     "output_type": "execute_result"
    }
   ],
   "source": [
    "df = pd.DataFrame({\n",
    "    \"missing_numerical\": [-1.414214, 0, 0, 0, 1.414214],\n",
    "    \"missing_categorical_cat\": [0, 1, 1, 1, 1],\n",
    "    \"missing_categorical_dog\": [1, 0, 0, 0, 0],\n",
    "})\n",
    "df"
   ]
  },
  {
   "cell_type": "markdown",
   "metadata": {},
   "source": [
    "And the **console output** is\n",
    "\n",
    "The following column names were reformatted<br>\n",
    "&emsp;Missing Numerical -> missing_numerical<br>\n",
    "&emsp;MISSING CATEGORICAL -> missing_categorical\n",
    "    \n",
    "Imputation:<br>\n",
    "&emsp;Column *missing_numerical* imputed the value 2 for 2 rows (40% of data)<br>\n",
    "&emsp;Column *missing_categorical* imputed the value \"dog\" for 1 tuple (20% of data)\n",
    "\n",
    "Transformations:<br>\n",
    "&emsp;Column *missing_numerical* was transformed with standard scaler<br>\n",
    "&emsp;Column *missing_categorical* was one-hot encoded\n",
    "\n",
    "Irrelevant columns dropped:<br>\n",
    "&emsp;Column *Too Many Missing* was dropped because of 80% of values are missing<br>\n",
    "&emsp;Column *too many repeated values* was dropped because the value \"dog\" accounts for 80% of the column\n"
   ]
  },
  {
   "cell_type": "markdown",
   "metadata": {},
   "source": [
    "# Related work\n",
    "\n",
    "\n",
    "## [datacleaner](https://github.com/rhiever/datacleaner)\n",
    "1. Drop any rows with missing values (default False)\n",
    "2. Impute missing values: mode for categorical, mean for continuous\n",
    "3. Encode categorical variables: default LabelEncoder (can pass an sklearn encoder)\n",
    "\n",
    "## RapidMiner\n",
    "1. Define the target column (so it is ignored from cleaning), ignore if doesn't exist\n",
    "2. Remove low quality columns\n",
    "3. Change type to all numerical (dummy), or all categorical (bin)\n",
    "4. Specify PCA or normalization\n",
    "\n",
    "## [PyCaret](https://pycaret.org/classification/)\n",
    "Takes as input a dataframe and target column\n",
    "1. default *constant* (\"not available\") categorical imputation, other option \"mode\"\n",
    "2. default *mean* numerical imputation, other option \"median\"\n",
    "3. high cardinality transformation *frequency*, other \"clustering\"\n",
    "\n",
    "## [vtreat](https://github.com/WinVector/pyvtreat)\n",
    "1. Define the target column (it can't contain missing values)\n",
    "2. Statistical approach to dealing with missing values\n",
    "3. For categorical encoding:\n",
    "    a) impact (target) encoding\n",
    "4. Use a calibration set to determine whether the encoding introduces bias"
   ]
  }
 ],
 "metadata": {
  "hide_input": false,
  "kernelspec": {
   "display_name": "dataprep",
   "language": "python",
   "name": "dataprep"
  },
  "language_info": {
   "codemirror_mode": {
    "name": "ipython",
    "version": 3
   },
   "file_extension": ".py",
   "mimetype": "text/x-python",
   "name": "python",
   "nbconvert_exporter": "python",
   "pygments_lexer": "ipython3",
   "version": "3.8.3"
  },
  "toc": {
   "base_numbering": 1,
   "nav_menu": {},
   "number_sections": true,
   "sideBar": true,
   "skip_h1_title": false,
   "title_cell": "Table of Contents",
   "title_sidebar": "Contents",
   "toc_cell": false,
   "toc_position": {},
   "toc_section_display": true,
   "toc_window_display": false
  },
  "varInspector": {
   "cols": {
    "lenName": 16,
    "lenType": 16,
    "lenVar": 40
   },
   "kernels_config": {
    "python": {
     "delete_cmd_postfix": "",
     "delete_cmd_prefix": "del ",
     "library": "var_list.py",
     "varRefreshCmd": "print(var_dic_list())"
    },
    "r": {
     "delete_cmd_postfix": ") ",
     "delete_cmd_prefix": "rm(",
     "library": "var_list.r",
     "varRefreshCmd": "cat(var_dic_list()) "
    }
   },
   "types_to_exclude": [
    "module",
    "function",
    "builtin_function_or_method",
    "instance",
    "_Feature"
   ],
   "window_display": false
  }
 },
 "nbformat": 4,
 "nbformat_minor": 4
}
