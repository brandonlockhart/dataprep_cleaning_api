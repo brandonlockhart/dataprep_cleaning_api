{
 "cells": [
  {
   "cell_type": "markdown",
   "metadata": {},
   "source": [
    "# `clean_text()`\n",
    "\n",
    "Clean a column with text data\n",
    "\n",
    "\n",
    "## Features\n",
    "* Remove excess whitespace (1 space between words)\n",
    "* Strip leading and trailing whitespace\n",
    "* Standardize missing values\n",
    "* Convert to lowercase\n",
    "* Remove diacritics\n",
    "* Remove digits\n",
    "* Remove punctuation\n",
    "* Remove stopwords\n",
    "* Remove specific text\n"
   ]
  },
  {
   "cell_type": "code",
   "execution_count": null,
   "metadata": {},
   "outputs": [],
   "source": [
    "def clean_text(\n",
    "    df: Union[pd.DataFrame, dd.DataFrame],\n",
    "    column: str,\n",
    "    lowercase: bool = False,\n",
    "    remove_diacritics: bool = True\n",
    "    remove_whitespace: bool = True,\n",
    "    remove_digits: bool = False,\n",
    "    remove_punctuation: bool = False,\n",
    "    remove_stopwords: Union[List, bool] = False, # True -> remove, False -> don't, List -> provided\n",
    "    remove_text: Optional[str] = None, \"{}\"\n",
    "    default: bool = True # enable all\n",
    "    include_components = {\"lowercase\": False, \"stopwords\": func()}\n",
    "):\n",
    "    "
   ]
  },
  {
   "cell_type": "markdown",
   "metadata": {},
   "source": [
    "# Implementation\n",
    "\n",
    "String processing using pandas/dask [str APIs](https://pandas.pydata.org/pandas-docs/stable/user_guide/text.html) or regex as appropriate.\n"
   ]
  },
  {
   "cell_type": "markdown",
   "metadata": {},
   "source": [
    "# Resources\n",
    "[TextHero](https://texthero.org/docs/api/texthero.preprocessing.clean)"
   ]
  }
 ],
 "metadata": {
  "hide_input": false,
  "kernelspec": {
   "display_name": "dataprep",
   "language": "python",
   "name": "dataprep"
  },
  "language_info": {
   "codemirror_mode": {
    "name": "ipython",
    "version": 3
   },
   "file_extension": ".py",
   "mimetype": "text/x-python",
   "name": "python",
   "nbconvert_exporter": "python",
   "pygments_lexer": "ipython3",
   "version": "3.9.0"
  },
  "toc": {
   "base_numbering": 1,
   "nav_menu": {},
   "number_sections": true,
   "sideBar": true,
   "skip_h1_title": false,
   "title_cell": "Table of Contents",
   "title_sidebar": "Contents",
   "toc_cell": false,
   "toc_position": {},
   "toc_section_display": true,
   "toc_window_display": false
  },
  "varInspector": {
   "cols": {
    "lenName": 16,
    "lenType": 16,
    "lenVar": 40
   },
   "kernels_config": {
    "python": {
     "delete_cmd_postfix": "",
     "delete_cmd_prefix": "del ",
     "library": "var_list.py",
     "varRefreshCmd": "print(var_dic_list())"
    },
    "r": {
     "delete_cmd_postfix": ") ",
     "delete_cmd_prefix": "rm(",
     "library": "var_list.r",
     "varRefreshCmd": "cat(var_dic_list()) "
    }
   },
   "types_to_exclude": [
    "module",
    "function",
    "builtin_function_or_method",
    "instance",
    "_Feature"
   ],
   "window_display": false
  }
 },
 "nbformat": 4,
 "nbformat_minor": 4
}
