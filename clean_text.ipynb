{
 "cells": [
  {
   "cell_type": "markdown",
   "metadata": {},
   "source": [
    "# `clean_text()`\n",
    "\n",
    "Clean a column with text data\n",
    "\n",
    "\n",
    "## Features\n",
    "* Remove excess whitespace (1 space between words)\n",
    "* Strip beginning and trailing whitespace\n",
    "* Standardize missing values\n",
    "* Convert to lowercase\n",
    "* Remove diacritics\n",
    "* Remove digits\n",
    "* Remove punctuation\n",
    "* Remove stopwords\n",
    "* Remove whitespace\n",
    "* Remove specific text?\n"
   ]
  },
  {
   "cell_type": "code",
   "execution_count": 1,
   "metadata": {
    "ExecuteTime": {
     "end_time": "2020-08-07T22:28:43.496441Z",
     "start_time": "2020-08-07T22:28:43.487646Z"
    }
   },
   "outputs": [
    {
     "ename": "SyntaxError",
     "evalue": "invalid syntax (<ipython-input-1-973a13604540>, line 6)",
     "output_type": "error",
     "traceback": [
      "\u001b[0;36m  File \u001b[0;32m\"<ipython-input-1-973a13604540>\"\u001b[0;36m, line \u001b[0;32m6\u001b[0m\n\u001b[0;31m    remove_digits: bool = False,\u001b[0m\n\u001b[0m    ^\u001b[0m\n\u001b[0;31mSyntaxError\u001b[0m\u001b[0;31m:\u001b[0m invalid syntax\n"
     ]
    }
   ],
   "source": [
    "def clean_text(\n",
    "    df: Union[pd.DataFrame, dd.DataFrame],\n",
    "    column: str,\n",
    "    lowercase: bool = False,\n",
    "    remove_diacritics: bool = True\n",
    "    remove_digits: bool = False,\n",
    "    remove_punctuation: bool = False,\n",
    "    remove_stopwords: bool = False,\n",
    "    remove_whitespace: bool = False,\n",
    "    remove_text: Optional[str] = None, \"{}\"\n",
    "):"
   ]
  },
  {
   "cell_type": "markdown",
   "metadata": {},
   "source": [
    "# Implementation\n",
    "\n",
    "1. Regular expressions to remove and replace as appropriate\n"
   ]
  },
  {
   "cell_type": "markdown",
   "metadata": {},
   "source": [
    "# Resources\n",
    "[TextHero](https://texthero.org/docs/api/texthero.preprocessing.clean)"
   ]
  }
 ],
 "metadata": {
  "hide_input": false,
  "kernelspec": {
   "display_name": "dataprep",
   "language": "python",
   "name": "dataprep"
  },
  "language_info": {
   "codemirror_mode": {
    "name": "ipython",
    "version": 3
   },
   "file_extension": ".py",
   "mimetype": "text/x-python",
   "name": "python",
   "nbconvert_exporter": "python",
   "pygments_lexer": "ipython3",
   "version": "3.8.3"
  },
  "toc": {
   "base_numbering": 1,
   "nav_menu": {},
   "number_sections": true,
   "sideBar": true,
   "skip_h1_title": false,
   "title_cell": "Table of Contents",
   "title_sidebar": "Contents",
   "toc_cell": false,
   "toc_position": {},
   "toc_section_display": true,
   "toc_window_display": false
  },
  "varInspector": {
   "cols": {
    "lenName": 16,
    "lenType": 16,
    "lenVar": 40
   },
   "kernels_config": {
    "python": {
     "delete_cmd_postfix": "",
     "delete_cmd_prefix": "del ",
     "library": "var_list.py",
     "varRefreshCmd": "print(var_dic_list())"
    },
    "r": {
     "delete_cmd_postfix": ") ",
     "delete_cmd_prefix": "rm(",
     "library": "var_list.r",
     "varRefreshCmd": "cat(var_dic_list()) "
    }
   },
   "types_to_exclude": [
    "module",
    "function",
    "builtin_function_or_method",
    "instance",
    "_Feature"
   ],
   "window_display": false
  }
 },
 "nbformat": 4,
 "nbformat_minor": 4
}
