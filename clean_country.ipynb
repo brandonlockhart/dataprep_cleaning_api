{
 "cells": [
  {
   "cell_type": "markdown",
   "metadata": {},
   "source": [
    "# `clean_country()`: Clean Country Names\n",
    "\n",
    "Follow the [ISO 3166 country codes](https://en.wikipedia.org/wiki/List_of_ISO_3166_country_codes); use only ascii characters.\n",
    "\n",
    "Convert a country name into the formats:\n",
    "1. \"name\": the country name\n",
    "2. \"official\": the official state name\n",
    "3. \"alpha-2\": two letter abbreviation\n",
    "4. \"alpha-3\": three letter abbreviation\n",
    "5. \"numeric\": numeric code"
   ]
  },
  {
   "cell_type": "code",
   "execution_count": 25,
   "metadata": {
    "ExecuteTime": {
     "end_time": "2020-08-07T18:30:32.089001Z",
     "start_time": "2020-08-07T18:30:32.081355Z"
    }
   },
   "outputs": [
    {
     "ename": "SyntaxError",
     "evalue": "invalid syntax (<ipython-input-25-477dfe41307b>, line 4)",
     "output_type": "error",
     "traceback": [
      "\u001b[0;36m  File \u001b[0;32m\"<ipython-input-25-477dfe41307b>\"\u001b[0;36m, line \u001b[0;32m4\u001b[0m\n\u001b[0;31m    input_format: Union[\"auto\", *output_format],\u001b[0m\n\u001b[0m                                ^\u001b[0m\n\u001b[0;31mSyntaxError\u001b[0m\u001b[0;31m:\u001b[0m invalid syntax\n"
     ]
    }
   ],
   "source": [
    "def clean_country(\n",
    "    df: Union[pd.DataFrame, dd.DataFrame],\n",
    "    column: str,\n",
    "    input_format: Union[\"auto\", *output_format],\n",
    "    output_format: Union[\"name\", \"official\", \"alpha-2\", \"alpha-3\", \"numeric\"],\n",
    "    language: TODO\n",
    "):"
   ]
  },
  {
   "cell_type": "markdown",
   "metadata": {},
   "source": [
    "## Parameters\n",
    "\n",
    "* `df`: Union[*pandas.DataFrame, dask.DataFrame*] &mdash; the data frame to be transformed \n",
    "* `column`: *str* &mdash; the name of the column to be cleaned\n",
    "* `input_format`*str* &mdash; the input format of the countries\n",
    "* `output_format`*str* &mdash; the output format countries"
   ]
  },
  {
   "cell_type": "markdown",
   "metadata": {},
   "source": [
    "# Implementation\n",
    "\n",
    "0. Create a Database with ISO 3166 data, and associated regular expressions (see [country_convertor](https://github.com/konstantinstadler/country_converter/blob/master/country_converter/country_data.tsv),  for string formatting. This could be a json file, and can be stored in Python in a dict.\n",
    "\n",
    "1. Standardize null values\n",
    "\n",
    "2. If `input_format` is \"auto\": use regex matching and table lookups to try to identify the countries, then output the countries in the output format\n",
    "\n",
    "3. If `input_format` is not \"auto\": map directly from the input to the output format\n",
    "\n",
    "<!-- 4. regex [fuzzy match country names](https://en.wikipedia.org/wiki/List_of_ISO_3166_country_codes) when name type is \"short\" or \"official\", and standardize the output -->\n"
   ]
  },
  {
   "cell_type": "markdown",
   "metadata": {},
   "source": [
    "# Resources\n",
    "\n",
    "Python Libraries:\n",
    "1. [country_converter](https://github.com/konstantinstadler/country_converter). Converts countries into standardized formats.\n",
    "2. [pycountry](https://github.com/flyingcircusio/pycountry). Has \"fuzzy search\" for country matching.\n",
    "\n",
    "R libraries:\n",
    "1. [StandardizeText](https://www.rdocumentation.org/packages/StandardizeText/versions/1.0/topics/standardize.countrynames). They can [standardize country names](https://github.com/cran/StandardizeText/blob/master/R/standardize.countrynames.R) using regex and have a [regex database](https://github.com/cran/StandardizeText/blob/master/data/country.regex.rda) for matching countries.\n",
    "2. [Passport](https://rdrr.io/cran/passport/man/parse_country.html). Parses irregular country names to ISO using regex, google maps geocoding, dstk geocoding. They have a dataset of codes [dataset of codes](https://github.com/alistaire47/passport/blob/master/data/codes.rda). [Github](https://github.com/alistaire47/passport)\n",
    "3. [Countrycode](https://github.com/vincentarelbundock/countrycode). Standardize country names in many languages.\n",
    "4. [RangeBuilder](https://github.com/ptitle/rangeBuilder). They [standardize country names](https://github.com/ptitle/rangeBuilder/blob/master/rangeBuilder/R/standardizeCountry.R) using regex and **fuzzy matching**.\n"
   ]
  },
  {
   "cell_type": "code",
   "execution_count": 24,
   "metadata": {
    "ExecuteTime": {
     "end_time": "2020-08-07T18:20:16.525289Z",
     "start_time": "2020-08-07T18:20:16.380292Z"
    }
   },
   "outputs": [
    {
     "name": "stdout",
     "output_type": "stream",
     "text": [
      "['Tanzania', 'Germany', 'Cabo Verde', 'Tunisia', 'Myanmar', 'Congo Republic', 'Iran', 'South Korea', 'North Korea']\n"
     ]
    }
   ],
   "source": [
    "import country_converter as coco\n",
    "some_names = ['United Rep. of Tanzania', 'DE', 'Cape Verde', '788', 'Burma', 'COG',\n",
    "              'Iran (Islamic Republic of)', 'Korea, Republic of',\n",
    "              \"Dem. People's Rep. of Korea\"]\n",
    "standard_names = coco.convert(names=some_names, to='name_short')\n",
    "print(standard_names)"
   ]
  },
  {
   "cell_type": "markdown",
   "metadata": {},
   "source": []
  }
 ],
 "metadata": {
  "hide_input": false,
  "kernelspec": {
   "display_name": "dataprep",
   "language": "python",
   "name": "dataprep"
  },
  "language_info": {
   "codemirror_mode": {
    "name": "ipython",
    "version": 3
   },
   "file_extension": ".py",
   "mimetype": "text/x-python",
   "name": "python",
   "nbconvert_exporter": "python",
   "pygments_lexer": "ipython3",
   "version": "3.8.3"
  },
  "toc": {
   "base_numbering": 1,
   "nav_menu": {},
   "number_sections": true,
   "sideBar": true,
   "skip_h1_title": false,
   "title_cell": "Table of Contents",
   "title_sidebar": "Contents",
   "toc_cell": false,
   "toc_position": {},
   "toc_section_display": true,
   "toc_window_display": false
  },
  "varInspector": {
   "cols": {
    "lenName": 16,
    "lenType": 16,
    "lenVar": 40
   },
   "kernels_config": {
    "python": {
     "delete_cmd_postfix": "",
     "delete_cmd_prefix": "del ",
     "library": "var_list.py",
     "varRefreshCmd": "print(var_dic_list())"
    },
    "r": {
     "delete_cmd_postfix": ") ",
     "delete_cmd_prefix": "rm(",
     "library": "var_list.r",
     "varRefreshCmd": "cat(var_dic_list()) "
    }
   },
   "types_to_exclude": [
    "module",
    "function",
    "builtin_function_or_method",
    "instance",
    "_Feature"
   ],
   "window_display": false
  }
 },
 "nbformat": 4,
 "nbformat_minor": 4
}
