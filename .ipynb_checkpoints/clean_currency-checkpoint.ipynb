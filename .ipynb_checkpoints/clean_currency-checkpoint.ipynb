{
 "cells": [
  {
   "cell_type": "markdown",
   "metadata": {},
   "source": [
    "clean_currency(\n",
    "\n",
    "**dataframe**, \n",
    "\n",
    "**column**,\n",
    "\n",
    "**n_round**: 2,\n",
    "\n",
    "**consistent_currency**: False\n",
    "\n",
    "**target_currency**: \"USD\"\n",
    "\n",
    "**target_representation**: \"abbreviation\",\n",
    "\n",
    "**customized_rule** = None\n",
    "\n",
    "**split** = False\n",
    ")"
   ]
  },
  {
   "cell_type": "markdown",
   "metadata": {},
   "source": [
    "**dataframe: pandas.DataFrame**\n",
    "\n",
    "+ Input dataframe\n",
    "\n",
    "**column: str**\n",
    "\n",
    "+ The column to be transformed\n",
    "+ Each value within the column is detected, if it's detected as currency type, then it's cleaned. Otherwise, the function does nothing to the value.\n",
    "+ Currency_Type_Detection and parsing\n",
    "    + Can be parsed as both currency and value\n",
    "    + May not contain currency (pure value)\n",
    "    + Supported currency format prefix: symbol ('$') and abbreviation ('USD')\n",
    "    + Refers to MessyTable.CurrencyType: https://github.com/okfn/messytables/blob/master/messytables/types.py\n",
    "\n",
    "**n_round: int**\n",
    "\n",
    "+ Number of digits to be preserved to make format consistent\n",
    "+ Example:\n",
    "    + USD 25.00\n",
    "    + USD 25.0\n",
    "    + USD 25\n",
    "\n",
    "**consistent_currency: Boolean**\n",
    "\n",
    "+ Indicate whether to transform inputs into consistent currency\n",
    "+ If it's set to false, just keep the initial input currency, otherwise, transform to target_currency\n",
    "+ Example: USD 25.00 <-> RMB 173.64\n",
    "+ Can be done using exchange API: https://exchangeratesapi.io/\n",
    "\n",
    "**target_currency: str**\n",
    "\n",
    "+ Indicate the target currency \n",
    "+ Can be ignored in terms of currency transformation if consistent currency is set to False. However, it can still serve as default currency\n",
    "+ Can support main currency\n",
    "+ Example:\n",
    "    + USD 25.00\n",
    "    + RMB 173.64\n",
    "    + 25.00\n",
    "\n",
    "\n",
    "**use_symbol: Boolean**\n",
    "\n",
    "+ whether to use \"symbol\" (\"$\")\n",
    "\n",
    "**use_abbr: Boolean**\n",
    "\n",
    "+ whether to use \"abbreviation\" (\"USD\")\n",
    "+ use_symbol and use_abbr can't be True at the same time\n",
    "\n",
    "**customized_rule: Function**:\n",
    "\n",
    "+ Defines customized format transfomation function\n",
    "+ Takes input string and output the corresponding output string\n",
    "\n",
    "**split: Boolean**\n",
    "\n",
    "+ Define whether to split time attribute into different columns\n",
    "+ Parse and split string to individual components\n",
    "+ components: prefix(abbr/symbol) and amount"
   ]
  },
  {
   "cell_type": "markdown",
   "metadata": {},
   "source": [
    "**Key points**\n",
    "\n",
    "+ Parse input string into different components\n",
    "+ Fix missing components based on default setting\n",
    "+ Target currency: when the prefix can't be parsed, it just serves as the default currency"
   ]
  },
  {
   "cell_type": "code",
   "execution_count": null,
   "metadata": {},
   "outputs": [],
   "source": []
  }
 ],
 "metadata": {
  "kernelspec": {
   "display_name": "Python 3",
   "language": "python",
   "name": "python3"
  },
  "language_info": {
   "codemirror_mode": {
    "name": "ipython",
    "version": 3
   },
   "file_extension": ".py",
   "mimetype": "text/x-python",
   "name": "python",
   "nbconvert_exporter": "python",
   "pygments_lexer": "ipython3",
   "version": "3.7.3"
  }
 },
 "nbformat": 4,
 "nbformat_minor": 2
}
