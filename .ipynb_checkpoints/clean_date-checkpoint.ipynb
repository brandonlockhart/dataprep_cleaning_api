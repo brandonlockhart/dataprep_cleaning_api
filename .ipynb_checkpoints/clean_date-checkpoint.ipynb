{
 "cells": [
  {
   "cell_type": "markdown",
   "metadata": {},
   "source": [
    "clean_date(\n",
    "\n",
    "**dataframe**, \n",
    "\n",
    "**column**,\n",
    "\n",
    "**target_format** = 'yyyy-mm-dd hh:mm:ss', \n",
    "\n",
    "**target_timezone** = 'local',\n",
    "\n",
    "**fix_empty** = 'minimum',\n",
    "\n",
    "**show_report** = False,\n",
    "\n",
    "**customized_rule** = None\n",
    "\n",
    "**split** = False\n",
    "\n",
    ")"
   ]
  },
  {
   "cell_type": "markdown",
   "metadata": {},
   "source": [
    "**dataframe: pandas.DataFrame**\n",
    "\n",
    "+ Input dataframe\n",
    "\n",
    "**column: str**\n",
    "\n",
    "+ The column to be transformed\n",
    "+ Each value within the column is detected, if it's detected as date type, then it's cleaned. Otherwise, the function does nothing to the value.\n",
    "+ Date_Type_Detection: Parse input string, if time component (year/month/day/hour/minute/second) can be parsed, then it's recognized as a date value.\n",
    "+ Date_Type_Detection: Refers to implementation in datautil._parser https://github.com/dateutil/dateutil/blob/master/dateutil/parser/_parser.py\n",
    "\n",
    "**target_format: str**\n",
    "\n",
    "+ The target date format to be transformmed\n",
    "+ Format should be represented as the combinition of y,m,d,h,mn,s, then after each individual component is separeted from the initial string, it can be reformatted.\n",
    "+ Should be able to support customized formats\n",
    "+ Missing components are filled according to fix_empty parameter\n",
    "\n",
    "**fix_empty: str**\n",
    "\n",
    "+ Define the rule to fix the missing time component of parsed value\n",
    "+ value set: {'empty','auto'}\n",
    "+ empty: just left the missing component as it is\n",
    "+ auto: do everything for users automatically\n",
    "    + have default setting for every individual component\n",
    "    + for seconds, just fill it with zeros\n",
    "    + for years, fill it with the nearest value/minimum value\n",
    "\n",
    "**show_report: Boolean**\n",
    "\n",
    "+ Define whether to generate and return cleaning report\n",
    "+ Should design a class like Cleaning_Report()\n",
    "+ Contains: \n",
    "    + 1) how many values are repaired \n",
    "    + 2) how they are repaired \n",
    "    + 3) visualization \n",
    "    + 4) values that need repair but the library doesn't know the rule to repair (human-in-the-loop required)\n",
    "    + 5) ?\n",
    "\n",
    "**customized_rule: Function**:\n",
    "\n",
    "+ Defines customized format transfomation function\n",
    "+ Takes input string and output the corresponding output string\n",
    "\n",
    "**split: Boolean**\n",
    "\n",
    "+ Define whether to split time attribute into different columns\n",
    "+ Parse and split string to individual components\n",
    "+ components: year,month,date,hour,minute,second\n",
    "+ Add parameters to limit components to be split?"
   ]
  },
  {
   "cell_type": "markdown",
   "metadata": {},
   "source": [
    "**Key points**\n",
    "\n",
    "+ Parse input string into different components\n",
    "+ Fix missing components based on default setting\n",
    "+ Transform formats\n",
    "+ Extensions: time conversion between different timezones and"
   ]
  },
  {
   "cell_type": "code",
   "execution_count": null,
   "metadata": {},
   "outputs": [],
   "source": []
  },
  {
   "cell_type": "code",
   "execution_count": null,
   "metadata": {},
   "outputs": [],
   "source": []
  }
 ],
 "metadata": {
  "kernelspec": {
   "display_name": "Python 3",
   "language": "python",
   "name": "python3"
  },
  "language_info": {
   "codemirror_mode": {
    "name": "ipython",
    "version": 3
   },
   "file_extension": ".py",
   "mimetype": "text/x-python",
   "name": "python",
   "nbconvert_exporter": "python",
   "pygments_lexer": "ipython3",
   "version": "3.7.3"
  }
 },
 "nbformat": 4,
 "nbformat_minor": 2
}
