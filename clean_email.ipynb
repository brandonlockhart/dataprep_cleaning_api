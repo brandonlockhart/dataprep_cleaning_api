{
 "cells": [
  {
   "cell_type": "markdown",
   "metadata": {},
   "source": [
    "clean_email(\n",
    "\n",
    "**dataframe**, \n",
    "\n",
    "**column**,\n",
    "\n",
    "**domain_whitelist**: None,\n",
    "\n",
    "**customized_rule** = None\n",
    "\n",
    "**split** = False\n",
    ")"
   ]
  },
  {
   "cell_type": "markdown",
   "metadata": {},
   "source": [
    "**dataframe: pandas.DataFrame**\n",
    "\n",
    "+ Input dataframe\n",
    "\n",
    "**column: str**\n",
    "\n",
    "+ The column to be transformed\n",
    "+ Each value within the column is detected, if it's detected as email type, then it's cleaned. Otherwise, the function does nothing to the value.\n",
    "+ Email_Type_Detection and parsing\n",
    "    + Can be parsed into username and domain and @\n",
    "    + Can import external domain whitelist to check whether the email is valid\n",
    "    + Refers to:\n",
    "        + beautifier.email https://github.com/labtocat/beautifier/blob/master/beautifier/__init__.py\n",
    "        + validators.email https://github.com/kvesteri/validators/blob/master/validators/email.py\n",
    "+ Basic_clean: Do basic cleaning to remove redundant escape character like \"\\r\\n\", or blanks\n",
    "\n",
    "**domain_whitelist: Boolean**\n",
    "\n",
    "+ Add external domain whitelist to verify emails\n",
    "+ Can export metadata\n",
    "+ Example: https://github.com/labtocat/beautifier/blob/master/beautifier/helpers/free_domain_list.txt\n",
    "\n",
    "**customized_rule: Function**:\n",
    "\n",
    "+ Defines customized format transfomation function\n",
    "+ Takes input string and output the corresponding output string\n",
    "\n",
    "**split: Boolean**\n",
    "\n",
    "+ Define whether to split time attribute into different columns\n",
    "+ Parse and split string to individual components\n",
    "+ components: username,domain"
   ]
  },
  {
   "cell_type": "code",
   "execution_count": null,
   "metadata": {},
   "outputs": [],
   "source": []
  }
 ],
 "metadata": {
  "kernelspec": {
   "display_name": "Python 3",
   "language": "python",
   "name": "python3"
  },
  "language_info": {
   "codemirror_mode": {
    "name": "ipython",
    "version": 3
   },
   "file_extension": ".py",
   "mimetype": "text/x-python",
   "name": "python",
   "nbconvert_exporter": "python",
   "pygments_lexer": "ipython3",
   "version": "3.7.3"
  }
 },
 "nbformat": 4,
 "nbformat_minor": 2
}
