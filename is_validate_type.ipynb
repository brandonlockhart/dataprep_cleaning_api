{
 "cells": [
  {
   "cell_type": "markdown",
   "metadata": {},
   "source": [
    "is_validate_type(value)"
   ]
  },
  {
   "cell_type": "markdown",
   "metadata": {},
   "source": [
    "+ Can serve as the subroutine of clean_type() and can be exposed to users as well\n",
    "+ Can be defined as optional by parameter in clean_type()\n",
    "    + clean_type(validate_before_clean: Boolean)\n",
    "+ How to avoid high computation time?\n"
   ]
  },
  {
   "cell_type": "markdown",
   "metadata": {},
   "source": [
    "References:\n",
    "\n",
    "https://stackoverflow.com/questions/16870663/how-do-i-validate-a-date-string-format-in-python\n",
    "\n",
    "https://stackoverflow.com/questions/7160737/python-how-to-validate-a-url-in-python-malformed-or-not\n",
    "\n",
    "https://stackoverflow.com/questions/354044/what-is-the-best-u-s-currency-regex\n",
    "\n",
    "https://stackoverflow.com/questions/8022530/how-to-check-for-valid-email-address\n",
    "\n",
    "https://stackoverflow.com/questions/16135069/python-validation-mobile-number\n",
    "\n",
    "https://stackoverflow.com/questions/134956/how-do-you-perform-address-validation\n",
    "\n"
   ]
  },
  {
   "cell_type": "code",
   "execution_count": null,
   "metadata": {},
   "outputs": [],
   "source": []
  }
 ],
 "metadata": {
  "kernelspec": {
   "display_name": "Python 3",
   "language": "python",
   "name": "python3"
  },
  "language_info": {
   "codemirror_mode": {
    "name": "ipython",
    "version": 3
   },
   "file_extension": ".py",
   "mimetype": "text/x-python",
   "name": "python",
   "nbconvert_exporter": "python",
   "pygments_lexer": "ipython3",
   "version": "3.7.3"
  }
 },
 "nbformat": 4,
 "nbformat_minor": 2
}
