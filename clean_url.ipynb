{
 "cells": [
  {
   "cell_type": "markdown",
   "metadata": {},
   "source": [
    "clean_url(\n",
    "\n",
    "**dataframe**, \n",
    "\n",
    "**column**,\n",
    "\n",
    "**url_depth**: None\n",
    "\n",
    "**remove_auth**: False,\n",
    "\n",
    "**customized_rule** = None,\n",
    "\n",
    "**split** = False\n",
    ")"
   ]
  },
  {
   "cell_type": "markdown",
   "metadata": {},
   "source": [
    "**dataframe: pandas.DataFrame**\n",
    "\n",
    "+ Input dataframe\n",
    "\n",
    "**column: str**\n",
    "\n",
    "+ The column to be transformed\n",
    "+ Each value within the column is detected, if it's detected as url type, then it's cleaned. Otherwise, the function does nothing to the value.\n",
    "+ Irl_Type_Detection and parsing\n",
    "    + django URL Validator https://github.com/django/django/blob/stable/1.3.x/django/core/validators.py#L45\n",
    "    + validators.url https://github.com/kvesteri/validators/blob/master/validators/url.py\n",
    "    + urlparse https://docs.python.org/2/library/urlparse.html\n",
    "+ Basic clean: Do basic cleaning to remove redundant escape character like \"\\r\\n\", or blanks, (to lowercase)\n",
    "\n",
    "**url_depth: int**\n",
    "\n",
    "+ Specify number of directories kept for path\n",
    "+ Real user case: Cleaning up URL column in pandas dataframe https://stackoverflow.com/questions/41141265/cleaning-up-url-column-in-pandas-dataframe \n",
    "+ Example:\n",
    "    + www.example.com/abcdef&=randstring\n",
    "    + www.example.com/abcdef \n",
    "    + www.example.com/abcdef/randstring\n",
    "    + ...\n",
    "    + url_depth = 1\n",
    "    + implementation: \n",
    "        df = df.URLs.str.extract('(www.[a-zA-Z]*.com/[a-zA-Z]*)', expand=False)\n",
    "    \n",
    "**remove_auth: Boolean**\n",
    "\n",
    "+ Remove auth parameters to avoid security issue\n",
    "+ Example:\n",
    "    + https://in.linkedin.com/in/sachinphilip?authtoken=887nasdadasd6hasdtg21&secret=98jy766yhhuhnjk\n",
    "    + https://in.linkedin.com/in/sachinphilip\n",
    "    \n",
    "**customized_rule: Function**:\n",
    "\n",
    "+ Defines customized format transfomation function\n",
    "+ Takes input string and output the corresponding output string\n",
    "\n",
    "**split: Boolean**\n",
    "\n",
    "+ Define whether to split time attribute into different columns\n",
    "+ Parse and split string to individual components\n",
    "+ components: domain, parameters(may contain multiple parameters at the same time)"
   ]
  },
  {
   "cell_type": "markdown",
   "metadata": {},
   "source": [
    "**Key points**\n",
    "\n",
    "+ Do the basic cleaning\n",
    "+ Parse input string into different components"
   ]
  },
  {
   "cell_type": "code",
   "execution_count": null,
   "metadata": {},
   "outputs": [],
   "source": []
  }
 ],
 "metadata": {
  "kernelspec": {
   "display_name": "Python 3",
   "language": "python",
   "name": "python3"
  },
  "language_info": {
   "codemirror_mode": {
    "name": "ipython",
    "version": 3
   },
   "file_extension": ".py",
   "mimetype": "text/x-python",
   "name": "python",
   "nbconvert_exporter": "python",
   "pygments_lexer": "ipython3",
   "version": "3.7.3"
  }
 },
 "nbformat": 4,
 "nbformat_minor": 2
}
