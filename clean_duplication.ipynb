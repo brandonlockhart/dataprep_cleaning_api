{
 "cells": [
  {
   "cell_type": "markdown",
   "metadata": {},
   "source": [
    "# `clean_duplication()` String matching in a column\n",
    "\n",
    "Standardize duplicate strings in a column. Follow OpenRefine's [approach](https://github.com/OpenRefine/OpenRefine/wiki/Clustering-In-Depth)."
   ]
  },
  {
   "cell_type": "code",
   "execution_count": null,
   "metadata": {},
   "outputs": [],
   "source": [
    "def clean_duplication(\n",
    "    df: Union[pd.DataFrame, dd.DataFrame],\n",
    "    column: str\n",
    ")"
   ]
  },
  {
   "cell_type": "markdown",
   "metadata": {},
   "source": [
    "# Example"
   ]
  },
  {
   "cell_type": "code",
   "execution_count": 3,
   "metadata": {
    "ExecuteTime": {
     "end_time": "2020-08-26T16:01:06.118462Z",
     "start_time": "2020-08-26T16:01:05.277486Z"
    }
   },
   "outputs": [
    {
     "data": {
      "text/html": [
       "<div>\n",
       "<style scoped>\n",
       "    .dataframe tbody tr th:only-of-type {\n",
       "        vertical-align: middle;\n",
       "    }\n",
       "\n",
       "    .dataframe tbody tr th {\n",
       "        vertical-align: top;\n",
       "    }\n",
       "\n",
       "    .dataframe thead th {\n",
       "        text-align: right;\n",
       "    }\n",
       "</style>\n",
       "<table border=\"1\" class=\"dataframe\">\n",
       "  <thead>\n",
       "    <tr style=\"text-align: right;\">\n",
       "      <th></th>\n",
       "      <th>city</th>\n",
       "    </tr>\n",
       "  </thead>\n",
       "  <tbody>\n",
       "    <tr>\n",
       "      <th>0</th>\n",
       "      <td>Mississippi</td>\n",
       "    </tr>\n",
       "    <tr>\n",
       "      <th>1</th>\n",
       "      <td>mississippi</td>\n",
       "    </tr>\n",
       "    <tr>\n",
       "      <th>2</th>\n",
       "      <td>misssisipppi</td>\n",
       "    </tr>\n",
       "    <tr>\n",
       "      <th>3</th>\n",
       "      <td>Misisipi</td>\n",
       "    </tr>\n",
       "    <tr>\n",
       "      <th>4</th>\n",
       "      <td>Dayton</td>\n",
       "    </tr>\n",
       "    <tr>\n",
       "      <th>5</th>\n",
       "      <td>Layton</td>\n",
       "    </tr>\n",
       "  </tbody>\n",
       "</table>\n",
       "</div>"
      ],
      "text/plain": [
       "           city\n",
       "0   Mississippi\n",
       "1   mississippi\n",
       "2  misssisipppi\n",
       "3      Misisipi\n",
       "4        Dayton\n",
       "5        Layton"
      ]
     },
     "execution_count": 3,
     "metadata": {},
     "output_type": "execute_result"
    }
   ],
   "source": [
    "import pandas as pd\n",
    "df = pd.DataFrame({\n",
    "    \"city\": [\n",
    "        \"Mississippi\",\n",
    "        \"mississippi\",\n",
    "        \"misssisipppi\",\n",
    "        \"Misisipi\",\n",
    "        \"Dayton\",\n",
    "        \"Layton\",\n",
    "    ]\n",
    "})\n",
    "df"
   ]
  },
  {
   "cell_type": "code",
   "execution_count": 11,
   "metadata": {
    "ExecuteTime": {
     "end_time": "2020-08-26T16:10:14.345121Z",
     "start_time": "2020-08-26T16:10:12.509458Z"
    }
   },
   "outputs": [
    {
     "data": {
      "application/vnd.jupyter.widget-view+json": {
       "model_id": "516d87b67e1f4ede9f189554e066388b",
       "version_major": 2,
       "version_minor": 0
      },
      "text/plain": [
       "Box(children=(VBox(children=(HBox(children=(Label(value='_'), Label(value='_'), Label(value='_'), Label(value=…"
      ]
     },
     "metadata": {},
     "output_type": "display_data"
    },
    {
     "data": {
      "application/javascript": [
       "\n",
       "        var ind = IPython.notebook.get_selected_index();\n",
       "        var cell = IPython.notebook.get_cell(ind);\n",
       "        var text = cell.get_text();\n",
       "        cell.set_text(text.concat(atob(\"CmRmWyJjaXR5Il0gPSBkZlsiY2l0eSJdLnJlcGxhY2UoWyJtaXNzaXNzaXBwaSIsICJtaXNzc2lzaXBwcGkiLCAiTWlzaXNpcGkiXSwgIk1pc3Npc3NpcHBpIik=\")));\n",
       "    "
      ],
      "text/plain": [
       "<IPython.core.display.Javascript object>"
      ]
     },
     "metadata": {},
     "output_type": "display_data"
    },
    {
     "data": {
      "application/javascript": [
       "\n",
       "        var code = IPython.notebook.insert_cell_below('code');\n",
       "        code.set_text(atob(\"IyBkYXRhZnJhbWUgd2l0aCBjbGVhbmVkIHN0cmluZyB2YWx1ZXMKZGZfY2xlYW4=\"));\n",
       "        code.execute();\n",
       "    "
      ],
      "text/plain": [
       "<IPython.core.display.Javascript object>"
      ]
     },
     "metadata": {},
     "output_type": "display_data"
    }
   ],
   "source": [
    "clean_duplication(df, \"city\")\n",
    "# live code export\n",
    "df[\"city\"] = df[\"city\"].replace([\"mississippi\", \"misssisipppi\", \"Misisipi\"], \"Mississippi\")"
   ]
  },
  {
   "cell_type": "code",
   "execution_count": 12,
   "metadata": {
    "ExecuteTime": {
     "end_time": "2020-08-26T16:10:26.878298Z",
     "start_time": "2020-08-26T16:10:26.849041Z"
    }
   },
   "outputs": [
    {
     "data": {
      "text/html": [
       "<div>\n",
       "<style scoped>\n",
       "    .dataframe tbody tr th:only-of-type {\n",
       "        vertical-align: middle;\n",
       "    }\n",
       "\n",
       "    .dataframe tbody tr th {\n",
       "        vertical-align: top;\n",
       "    }\n",
       "\n",
       "    .dataframe thead th {\n",
       "        text-align: right;\n",
       "    }\n",
       "</style>\n",
       "<table border=\"1\" class=\"dataframe\">\n",
       "  <thead>\n",
       "    <tr style=\"text-align: right;\">\n",
       "      <th></th>\n",
       "      <th>city</th>\n",
       "    </tr>\n",
       "  </thead>\n",
       "  <tbody>\n",
       "    <tr>\n",
       "      <th>0</th>\n",
       "      <td>Mississippi</td>\n",
       "    </tr>\n",
       "    <tr>\n",
       "      <th>1</th>\n",
       "      <td>Dayton</td>\n",
       "    </tr>\n",
       "    <tr>\n",
       "      <th>2</th>\n",
       "      <td>Layton</td>\n",
       "    </tr>\n",
       "    <tr>\n",
       "      <th>3</th>\n",
       "      <td>Bayton</td>\n",
       "    </tr>\n",
       "  </tbody>\n",
       "</table>\n",
       "</div>"
      ],
      "text/plain": [
       "          city\n",
       "0  Mississippi\n",
       "1       Dayton\n",
       "2       Layton\n",
       "3       Bayton"
      ]
     },
     "execution_count": 12,
     "metadata": {},
     "output_type": "execute_result"
    }
   ],
   "source": [
    "# dataframe with cleaned string values\n",
    "df_clean"
   ]
  },
  {
   "cell_type": "code",
   "execution_count": 10,
   "metadata": {
    "ExecuteTime": {
     "end_time": "2020-08-26T16:10:08.915631Z",
     "start_time": "2020-08-26T16:10:08.852649Z"
    }
   },
   "outputs": [],
   "source": [
    "import base64\n",
    "from IPython.display import Javascript, display\n",
    "from ipywidgets import Button, HBox, VBox, Label, Layout, Box, Dropdown, Checkbox, Text\n",
    "import pandas as pd\n",
    "\n",
    "def live_export_code(*args):\n",
    "    code = \"\\ndf[\\\"city\\\"] = df[\\\"city\\\"].replace([\\\"mississippi\\\", \\\"misssisipppi\\\", \\\"Misisipi\\\"], \\\"Mississippi\\\")\"\n",
    "    encoded_code = (base64.b64encode(str.encode(code))).decode()\n",
    "    display(\n",
    "        Javascript(\"\"\"\n",
    "        var ind = IPython.notebook.get_selected_index();\n",
    "        var cell = IPython.notebook.get_cell(ind);\n",
    "        var text = cell.get_text();\n",
    "        cell.set_text(text.concat(atob(\"{0}\")));\n",
    "    \"\"\".format(encoded_code)))\n",
    "\n",
    "\n",
    "def final_df(*args):\n",
    "    code = \"# dataframe with cleaned string values\\ndf_clean\"\n",
    "    encoded_code = (base64.b64encode(str.encode(code))).decode()\n",
    "    display(\n",
    "        Javascript(\"\"\"\n",
    "        var code = IPython.notebook.insert_cell_below('code');\n",
    "        code.set_text(atob(\"{0}\"));\n",
    "        code.execute();\n",
    "    \"\"\".format(encoded_code)))\n",
    "\n",
    "\n",
    "def clean_duplication(*args):\n",
    "\n",
    "    box_layout = Layout(display='flex',\n",
    "                        flex_flow='column',\n",
    "                        align_items='stretch',\n",
    "                        border='solid',\n",
    "                        width='825px')\n",
    "    method = Dropdown(\n",
    "        options=['key collision', 'nearest neighbour'],\n",
    "        description='Method:',\n",
    "    )\n",
    "    key = Label(\" Keying function: \")\n",
    "    key_func = Dropdown(\n",
    "        options=['Fingerprint', 'ngram-fingerprint'],\n",
    "        layout={'width': '150px'})\n",
    "    export_code = Checkbox(value=True,\n",
    "                           description='export code',\n",
    "                           layout=Layout(width='165px'),\n",
    "                           style={'description_width': 'initial'})\n",
    "\n",
    "    repr_el = Text(value='Mississippi', layout=Layout(width='130px'))\n",
    "    repr_el2 = Text(value='Bayton', layout=Layout(width='130px'))\n",
    "    sel_all = Checkbox(description=\"Select all\", layout=Layout(width='165px'))\n",
    "\n",
    "    merge_and_recluster = Button(description=\"Merge and recluster\")\n",
    "    merge_and_recluster.on_click(live_export_code)\n",
    "\n",
    "    check = Checkbox(layout=Layout(width='165px'))\n",
    "    check2 = Checkbox(layout=Layout(width='165px'))\n",
    "\n",
    "    finish = Button(description=\"Finish\")\n",
    "    finish.on_click(final_df)\n",
    "\n",
    "    spc = [Label(\" \")]\n",
    "    \n",
    "    dropds = HBox([method, *spc * 10, key, key_func, *spc * 10, export_code])\n",
    "    blank = HBox([*spc * 100])\n",
    "    headers = HBox([\n",
    "        *spc * 8,\n",
    "        Label(\"Distinct values\"), *spc * 15,\n",
    "        Label(\"Total values\"), *spc * 15,\n",
    "        Label(\"Cluster values\"), *spc * 27,\n",
    "        Label(\"Merge?\"), *spc * 20,\n",
    "        Label(\"Representative value\")\n",
    "    ])\n",
    "    line = HBox([*[Label(\"_\")] * 100])\n",
    "    vals_1 = HBox([*spc * 78, Label(\"Mississippi (20 rows)\")])\n",
    "    vals_2 = HBox([\n",
    "        *spc * 18,\n",
    "        Label(\"4\"), *spc * 31,\n",
    "        Label(\"24\"), *spc * 22,\n",
    "        Label(\"mississippi (2 rows)\", layout=Layout(width='114px')), check,\n",
    "        *spc * 8, repr_el\n",
    "    ])\n",
    "    vals_3 = HBox([*spc * 78, Label(\"misssisipppi (1 row)\")])\n",
    "    vals_4 = HBox([*spc * 78, Label(\"Misisipi (1 row)\")])\n",
    "    vals_5 = HBox([*spc * 78, Label(\"Bayton (9 rows)\")])\n",
    "    vals_6 = HBox([\n",
    "        *spc * 18,\n",
    "        Label(\"3\"), *spc * 31,\n",
    "        Label(\"24\"), *spc * 22,\n",
    "        Label(\"Dayton (8 rows)\", layout=Layout(width='114px')), check2,\n",
    "        *spc * 8, repr_el2\n",
    "    ])\n",
    "    vals_7 = HBox([*spc * 78, Label(\"Layton (7 row)\")])\n",
    "    footer = HBox([sel_all, *spc * 79, merge_and_recluster, *spc * 10, finish])\n",
    "\n",
    "    return Box(children=[\n",
    "        VBox([line,\n",
    "            dropds, blank, headers, line, vals_1, vals_2, vals_3, vals_4, line,\n",
    "            vals_5, vals_6, vals_7, line, footer\n",
    "        ])\n",
    "    ],\n",
    "               layout=box_layout)\n",
    "\n",
    "df_clean = pd.DataFrame(\n",
    "    {\"city\": [\"Mississippi\", \"Dayton\", \"Layton\", \"Bayton\"]})"
   ]
  }
 ],
 "metadata": {
  "hide_input": false,
  "kernelspec": {
   "display_name": "dataprep",
   "language": "python",
   "name": "dataprep"
  },
  "language_info": {
   "codemirror_mode": {
    "name": "ipython",
    "version": 3
   },
   "file_extension": ".py",
   "mimetype": "text/x-python",
   "name": "python",
   "nbconvert_exporter": "python",
   "pygments_lexer": "ipython3",
   "version": "3.8.3"
  },
  "toc": {
   "base_numbering": 1,
   "nav_menu": {},
   "number_sections": true,
   "sideBar": true,
   "skip_h1_title": false,
   "title_cell": "Table of Contents",
   "title_sidebar": "Contents",
   "toc_cell": false,
   "toc_position": {},
   "toc_section_display": true,
   "toc_window_display": false
  },
  "varInspector": {
   "cols": {
    "lenName": 16,
    "lenType": 16,
    "lenVar": 40
   },
   "kernels_config": {
    "python": {
     "delete_cmd_postfix": "",
     "delete_cmd_prefix": "del ",
     "library": "var_list.py",
     "varRefreshCmd": "print(var_dic_list())"
    },
    "r": {
     "delete_cmd_postfix": ") ",
     "delete_cmd_prefix": "rm(",
     "library": "var_list.r",
     "varRefreshCmd": "cat(var_dic_list()) "
    }
   },
   "types_to_exclude": [
    "module",
    "function",
    "builtin_function_or_method",
    "instance",
    "_Feature"
   ],
   "window_display": false
  }
 },
 "nbformat": 4,
 "nbformat_minor": 4
}
