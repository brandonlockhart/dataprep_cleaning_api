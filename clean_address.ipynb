{
 "cells": [
  {
   "cell_type": "markdown",
   "metadata": {},
   "source": [
    "# `clean_address()`\n",
    "\n",
    "The task is to identify and clean each component of an address, and transform the address into a standardized form or split the address into its components. Since parsing addresses is hard, we will start with common address formats in the United States (and perhaps Canada since it's similar), and progressively support more cases.\n",
    "\n",
    "I propose that we follow the [pyaddress](https://github.com/SwoopSearch/pyaddress) library (main parsing script [here](https://github.com/SwoopSearch/pyaddress/blob/master/address/address.py)) which can identify the following [address attributes](https://github.com/SwoopSearch/pyaddress#address-1):\n",
    "\n",
    "Example address: (The Estates) 123 N. Main St. Apt 10, Brooklyn, NY 53703\n",
    "\n",
    "* `house number` (123)\n",
    "* `street prefix` (N)\n",
    "* `street` (Main)\n",
    "* `street suffix` (St)\n",
    "* `apartment` (Apt 10)\n",
    "* `building` (The Estates)\n",
    "* `city` (New York)\n",
    "* `state` (NY)\n",
    "* `zipcode` (53703)"
   ]
  },
  {
   "cell_type": "markdown",
   "metadata": {},
   "source": [
    "# API\n",
    "  \n",
    "## Function header"
   ]
  },
  {
   "cell_type": "code",
   "execution_count": null,
   "metadata": {},
   "outputs": [],
   "source": [
    "def clean_address(\n",
    "    df: Union[pd.DataFrame, dd.DataFrame],\n",
    "    column: str,\n",
    "    input_format: str = None,\n",
    "    output_format: str = None,\n",
    "    split: bool = False\n",
    "    inplace: bool = False,\n",
    ")"
   ]
  },
  {
   "cell_type": "markdown",
   "metadata": {},
   "source": [
    "## Format specification\n",
    "\n",
    "The user can specify the address format using the following keywords \n",
    "\n",
    "* `house_number`\n",
    "* `street_prefix_abbr` (\"N\", \"S\", \"E\", or \"W\")\n",
    "* `street_prefix_full` (\"North\", \"South\", \"East\", or \"West\")\n",
    "* `street` \n",
    "* `street_suffix_abbr` (eg \"St\", \"Ave\")\n",
    "* `street_suffix_full` (eg \"Street\", \"Avenue\")\n",
    "* `apartment`\n",
    "* `building`\n",
    "* `city`\n",
    "* `state_abbr` (eg \"NY\")\n",
    "* `state_full` (eg \"New York\")\n",
    "* `zipcode`\n",
    "\n",
    "The **default output format** is `\"(building) house_number street_prefix_abbr. street street_suffix_abbr. apartment, city, state_abbr zipcode\"`, omitting any missing attributes.\n",
    "\n",
    "The user can also specify how to split the address into columns using `\"\\t\"`. \n",
    "\n",
    "*Example.* df = \n",
    "\n",
    "| address |\n",
    "| --- |\n",
    "| 1600 Pennsylvania Avenue, Washington, DC 20500 |\n",
    "\n",
    "`clean_address(df, \"address\", output_format = \"house_number street street_suffix_abbr. \\t city \\t state_abbr\")` returns\n",
    "\n",
    "| address | house_number_street_street_suffix | city | state|\n",
    "| --- | --- | --- | --- |\n",
    "| 1600 Pennsylvania Avenue, Washington, DC 20500, USA | 1600 Pensylvania Ave. | Washington | DC |\n",
    "\n",
    "### Parameter `input_format` \n",
    "\n",
    "The user can specify the `input_format` like the output format. This could be useful if the input format is unusual but consistent.\n",
    "\n",
    "### Parameter `split`\n",
    "\n",
    "If True, the output will be split into each identified attribute of the address.\n",
    "\n",
    "*Example.* df = \n",
    "\n",
    "| address |\n",
    "| --- |\n",
    "| 1600 Pennsylvania Avenue, Washington, DC 20500 |\n",
    "\n",
    "`clean_address(df, \"address\", split=True)` returns\n",
    "\n",
    "| address | house_number | street | street_suffix | city | state| zipcode |\n",
    "| --- | --- | --- | --- | --- | --- | --- |\n",
    "| 1600 Pennsylvania Avenue, Washington, DC 20500 | 1600 |Pensylvania | Avenue | Washington | DC | 20500 |"
   ]
  },
  {
   "cell_type": "markdown",
   "metadata": {},
   "source": [
    "# Supplementary material\n",
    "\n",
    "## Python libraries\n",
    "\n",
    "1. [street-address](https://github.com/pnpnpn/street-address). Street address parser and formatter using regex and pattern matching\n",
    "\n",
    "2. [pyaddress](https://github.com/SwoopSearch/pyaddress). Street address parser using regex and pattern matching that is more comprehensive than street-address.\n",
    "\n",
    "3. [usaaddress-scourgify](https://github.com/GreenBuildingRegistry/usaddress-scourgify). Great reference, similar to pyaddress. Cleans and normalizes addresses using regex.\n",
    "\n",
    "4. [usaddress](https://github.com/datamade/usaddress). Uses a probabilistic model to guess components. (US address components [here](https://usaddress.readthedocs.io/en/latest/#details))\n",
    "\n",
    "## C library\n",
    "\n",
    "1. [libpostal](https://github.com/openvenues/libpostal). Comprehensive address parsing/normalization library that uses statistical NLP techniques.\n",
    "\n",
    "## Stackoverflow\n",
    "\n",
    "1. [Data Cleaning (Addresses) Python](https://stackoverflow.com/questions/58907196/data-cleaning-addresses-python)\n",
    "\n",
    "2. [How to parse freeform street/postal address out of text, and into components](https://stackoverflow.com/questions/11160192/how-to-parse-freeform-street-postal-address-out-of-text-and-into-components)\n"
   ]
  }
 ],
 "metadata": {
  "hide_input": false,
  "kernelspec": {
   "display_name": "dataprep",
   "language": "python",
   "name": "dataprep"
  },
  "language_info": {
   "codemirror_mode": {
    "name": "ipython",
    "version": 3
   },
   "file_extension": ".py",
   "mimetype": "text/x-python",
   "name": "python",
   "nbconvert_exporter": "python",
   "pygments_lexer": "ipython3",
   "version": "3.8.3"
  },
  "toc": {
   "base_numbering": 1,
   "nav_menu": {},
   "number_sections": true,
   "sideBar": true,
   "skip_h1_title": false,
   "title_cell": "Table of Contents",
   "title_sidebar": "Contents",
   "toc_cell": false,
   "toc_position": {},
   "toc_section_display": true,
   "toc_window_display": false
  },
  "varInspector": {
   "cols": {
    "lenName": 16,
    "lenType": 16,
    "lenVar": 40
   },
   "kernels_config": {
    "python": {
     "delete_cmd_postfix": "",
     "delete_cmd_prefix": "del ",
     "library": "var_list.py",
     "varRefreshCmd": "print(var_dic_list())"
    },
    "r": {
     "delete_cmd_postfix": ") ",
     "delete_cmd_prefix": "rm(",
     "library": "var_list.r",
     "varRefreshCmd": "cat(var_dic_list()) "
    }
   },
   "types_to_exclude": [
    "module",
    "function",
    "builtin_function_or_method",
    "instance",
    "_Feature"
   ],
   "window_display": false
  }
 },
 "nbformat": 4,
 "nbformat_minor": 4
}
