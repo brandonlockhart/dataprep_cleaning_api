{
 "cells": [
  {
   "cell_type": "markdown",
   "metadata": {},
   "source": [
    "# `clean_address()`\n",
    "\n",
    "[Hard](https://www.mjt.me.uk/posts/falsehoods-programmers-believe-about-addresses/) to standardize address format\n",
    "\n",
    "1. [usaddress](https://github.com/datamade/usaddress). Uses a probabilistic model to guess components.\n",
    "\n",
    "2. [street-address](https://github.com/pnpnpn/street-address). Uses regular expressions to parse addresses into components.\n",
    "\n",
    "Could do some basic alterations\n",
    "\n",
    "1. Expand abbreviations like [this](https://github.com/pnpnpn/street-address/blob/master/streetaddress/abbrevs.py), or [this](https://stackoverflow.com/questions/58907196/data-cleaning-addresses-python). E.g., st -> Street\n",
    "2. Remove access whitespace\n",
    "3. Strip leading and trailing whitespace"
   ]
  },
  {
   "cell_type": "code",
   "execution_count": null,
   "metadata": {},
   "outputs": [],
   "source": [
    "def clean_address(\n",
    "    df: Union[pd.DataFrame, dd.DataFrame],\n",
    "    column: Union[str, List[str, str]],\n",
    "    abbreviate: bool = False,\n",
    ")"
   ]
  }
 ],
 "metadata": {
  "hide_input": false,
  "kernelspec": {
   "display_name": "dataprep",
   "language": "python",
   "name": "dataprep"
  },
  "language_info": {
   "codemirror_mode": {
    "name": "ipython",
    "version": 3
   },
   "file_extension": ".py",
   "mimetype": "text/x-python",
   "name": "python",
   "nbconvert_exporter": "python",
   "pygments_lexer": "ipython3",
   "version": "3.8.3"
  },
  "toc": {
   "base_numbering": 1,
   "nav_menu": {},
   "number_sections": true,
   "sideBar": true,
   "skip_h1_title": false,
   "title_cell": "Table of Contents",
   "title_sidebar": "Contents",
   "toc_cell": false,
   "toc_position": {},
   "toc_section_display": true,
   "toc_window_display": false
  },
  "varInspector": {
   "cols": {
    "lenName": 16,
    "lenType": 16,
    "lenVar": 40
   },
   "kernels_config": {
    "python": {
     "delete_cmd_postfix": "",
     "delete_cmd_prefix": "del ",
     "library": "var_list.py",
     "varRefreshCmd": "print(var_dic_list())"
    },
    "r": {
     "delete_cmd_postfix": ") ",
     "delete_cmd_prefix": "rm(",
     "library": "var_list.r",
     "varRefreshCmd": "cat(var_dic_list()) "
    }
   },
   "types_to_exclude": [
    "module",
    "function",
    "builtin_function_or_method",
    "instance",
    "_Feature"
   ],
   "window_display": false
  }
 },
 "nbformat": 4,
 "nbformat_minor": 4
}
