{
 "cells": [
  {
   "cell_type": "markdown",
   "metadata": {},
   "source": [
    "clean_phone(\n",
    "\n",
    "**dataframe**, \n",
    "\n",
    "**column**,\n",
    "\n",
    "**target_format**: \"xxx-xxx-xxxx\",\n",
    "\n",
    "**fix_missing**: \"Empty\",\n",
    "\n",
    "**customized_rule** = None\n",
    "\n",
    "**split** = False\n",
    ")"
   ]
  },
  {
   "cell_type": "markdown",
   "metadata": {},
   "source": [
    "**dataframe: pandas.DataFrame**\n",
    "\n",
    "+ Input dataframe\n",
    "\n",
    "**column: str**\n",
    "\n",
    "+ The column to be transformed\n",
    "+ Each value within the column is detected, if it's detected as phone type, then it's cleaned. Otherwise, the function does nothing to the value.\n",
    "+ Phone_Type_Detection (is_valid_phone) and parsing\n",
    "    + Can be parsed into supported phone patterns\n",
    "    + Examples:\n",
    "        + +1-404-2000-000\n",
    "        + 4042000000\n",
    "        + +1-4042000000\n",
    "    + Refers to:\n",
    "        + python-phonenumbers.is_possible_number() https://github.com/daviddrysdale/python-phonenumbers/blob/dev/python/phonenumbers/phonenumberutil.py\n",
    "\n",
    "**target_format: str**\n",
    "\n",
    "+ Defines the target format after transformation\n",
    "+ Trim the input phone, then parse input phone to different components\n",
    "    + \"leading zeros\"\n",
    "    + \"+\"\n",
    "    + \"country Code\"\n",
    "    + \"National Number\"\n",
    "+ Reformat phone number to pre-defined format\n",
    "\n",
    "**fix_missing_country_code: str**\n",
    "\n",
    "+ Define the rule to fix the missing country code of parsed phone number\n",
    "+ value set: {\"empty\",\"auto\"}\n",
    "+ empty: just left the missing component as it is\n",
    "+ auto: do the fixing based on default rule\n",
    "    + majority: set the country code to the country code appears most in the column\n",
    "    + nearby: set the missing component to the nearest value in column\n",
    "\n",
    "**customized_rule: Function**:\n",
    "\n",
    "+ Defines customized format transfomation function\n",
    "+ Takes input string and output the corresponding output string\n",
    "\n",
    "**split: Boolean**\n",
    "\n",
    "+ Define whether to split time attribute into different columns\n",
    "+ Parse and split string to individual components\n",
    "+ components: country_code, phone_number"
   ]
  },
  {
   "cell_type": "markdown",
   "metadata": {},
   "source": [
    "**Key points**\n",
    "\n",
    "+ Parse input string into different components\n",
    "+ Fix missing components based on default setting\n",
    "+ Transform formats\n",
    "+ Extensions: check whether a number is valid (is_valid_phone())"
   ]
  },
  {
   "cell_type": "code",
   "execution_count": null,
   "metadata": {},
   "outputs": [],
   "source": []
  }
 ],
 "metadata": {
  "kernelspec": {
   "display_name": "Python 3",
   "language": "python",
   "name": "python3"
  },
  "language_info": {
   "codemirror_mode": {
    "name": "ipython",
    "version": 3
   },
   "file_extension": ".py",
   "mimetype": "text/x-python",
   "name": "python",
   "nbconvert_exporter": "python",
   "pygments_lexer": "ipython3",
   "version": "3.8.3"
  }
 },
 "nbformat": 4,
 "nbformat_minor": 2
}
