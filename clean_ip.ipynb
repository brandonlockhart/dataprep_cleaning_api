{
 "cells": [
  {
   "cell_type": "markdown",
   "metadata": {},
   "source": [
    "# `clean_ip()`\n",
    "\n",
    "Components\n",
    "* Removing leading and trailing whitespace\n",
    "* Format the ip addresses into either\n",
    "    * compressed format: no leading zeros\n",
    "    * full format: leading zeros"
   ]
  },
  {
   "cell_type": "code",
   "execution_count": null,
   "metadata": {},
   "outputs": [],
   "source": [
    "def clean_ip(\n",
    "    df: Union[pd.DataFrame, dd.DataFrame]\n",
    "    col: str\n",
    "    iptype: Union[\"ipv4\", \"ipv6\", \"both\"] = \"both\",\n",
    "    output_format: Union[\"compressed\", \"full\"] = \"compressed\",\n",
    "):"
   ]
  },
  {
   "cell_type": "markdown",
   "metadata": {},
   "source": [
    "## IPv4 \n",
    "Start with the quad-dotted [format](https://en.wikipedia.org/wiki/IPv4#Addressing) 0.0.0.0 - 255.255.255.255 ([regex](https://github.com/pyparsing/pyparsing/blob/0b398062710dc00b952636bcf7b7933f74f125da/pyparsing_archive.py#L7189))\n",
    "\n",
    "## IPv6\n",
    "\n",
    "Clean the standard [format](https://en.wikipedia.org/wiki/IPv6#Address_representation)\n"
   ]
  },
  {
   "cell_type": "code",
   "execution_count": null,
   "metadata": {},
   "outputs": [],
   "source": [
    "def validate_ip(\n",
    "    Union[str, int, pd.Series, dd.Series],\n",
    "    iptype: Union[\"ipv4\", \"ipv6\", \"both\"] = \"both\"\n",
    ")"
   ]
  },
  {
   "cell_type": "markdown",
   "metadata": {},
   "source": [
    "# Resources\n",
    "\n",
    "## Python\n",
    "\n",
    "* [validators](https://github.com/kvesteri/validators): ipv4/ipv6 [regex](https://github.com/kvesteri/validators/blob/7fe92bd2ad1765d6e8e24d6aa6e6cad3434c9aa9/validators/url.py).\n",
    "* [ipaddress](https://github.com/phihag/ipaddress)\n",
    "* [pyparsing](https://github.com/pyparsing/pyparsing): ipv4/ipv6 [regex](https://github.com/pyparsing/pyparsing/blob/0b398062710dc00b952636bcf7b7933f74f125da/pyparsing_archive.py#L7189)\n",
    "* Example ipv4/ipv6 [regex](https://gist.github.com/syzdek/6086792)\n",
    "\n",
    "## Other\n",
    "* Stackoverflow ipv4/ipv6 [regex](https://stackoverflow.com/questions/53497/regular-expression-that-matches-valid-ipv6-addresses)\n",
    "* Example ipv4/ipv6 [regex](https://www.oreilly.com/library/view/regular-expressions-cookbook/9780596802837/ch07s16.html)"
   ]
  },
  {
   "cell_type": "code",
   "execution_count": null,
   "metadata": {},
   "outputs": [],
   "source": []
  }
 ],
 "metadata": {
  "hide_input": false,
  "kernelspec": {
   "display_name": "dataprep",
   "language": "python",
   "name": "dataprep"
  },
  "language_info": {
   "codemirror_mode": {
    "name": "ipython",
    "version": 3
   },
   "file_extension": ".py",
   "mimetype": "text/x-python",
   "name": "python",
   "nbconvert_exporter": "python",
   "pygments_lexer": "ipython3",
   "version": "3.8.3"
  },
  "toc": {
   "base_numbering": 1,
   "nav_menu": {},
   "number_sections": true,
   "sideBar": true,
   "skip_h1_title": false,
   "title_cell": "Table of Contents",
   "title_sidebar": "Contents",
   "toc_cell": false,
   "toc_position": {},
   "toc_section_display": true,
   "toc_window_display": false
  },
  "varInspector": {
   "cols": {
    "lenName": 16,
    "lenType": 16,
    "lenVar": 40
   },
   "kernels_config": {
    "python": {
     "delete_cmd_postfix": "",
     "delete_cmd_prefix": "del ",
     "library": "var_list.py",
     "varRefreshCmd": "print(var_dic_list())"
    },
    "r": {
     "delete_cmd_postfix": ") ",
     "delete_cmd_prefix": "rm(",
     "library": "var_list.r",
     "varRefreshCmd": "cat(var_dic_list()) "
    }
   },
   "types_to_exclude": [
    "module",
    "function",
    "builtin_function_or_method",
    "instance",
    "_Feature"
   ],
   "window_display": false
  }
 },
 "nbformat": 4,
 "nbformat_minor": 4
}
