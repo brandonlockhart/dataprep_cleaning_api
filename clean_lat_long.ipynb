{
 "cells": [
  {
   "cell_type": "markdown",
   "metadata": {},
   "source": [
    "# `clean_lat_long()`\n",
    "\n",
    "Clean latitudinal and longitudinal values.\n",
    "\n",
    "Use [three common formats](https://en.wikipedia.org/wiki/Geographic_coordinate_conversion#:~:text=The%20numerical%20values%20for%20latitude,%C2%B0%20N%2079.982%C2%B0%20W):\n",
    "1. decimal degrees: 40.446° N 79.982° W\n",
    "2. degrees and decimal minutes: 40° 26.767′ N 79° 58.933′ W\n",
    "3. sexagesimal degree: degrees, minutes, and seconds : 40° 26′ 46″ N 79° 58′ 56″ W\n",
    "\n",
    "Default output two columns (latitude, longitude) in decimal format. Add columns or replace?\n",
    "\n",
    "TODO output [format](https://www.codeproject.com/Articles/15659/Longitude-Latitude-String-Parser-and-Formatter)"
   ]
  },
  {
   "cell_type": "code",
   "execution_count": 1,
   "metadata": {
    "ExecuteTime": {
     "end_time": "2020-08-07T23:26:19.432613Z",
     "start_time": "2020-08-07T23:26:19.422144Z"
    }
   },
   "outputs": [
    {
     "ename": "SyntaxError",
     "evalue": "invalid syntax (<ipython-input-1-d070386f60e9>, line 5)",
     "output_type": "error",
     "traceback": [
      "\u001b[0;36m  File \u001b[0;32m\"<ipython-input-1-d070386f60e9>\"\u001b[0;36m, line \u001b[0;32m5\u001b[0m\n\u001b[0;31m    unify=False;\u001b[0m\n\u001b[0m    ^\u001b[0m\n\u001b[0;31mSyntaxError\u001b[0m\u001b[0;31m:\u001b[0m invalid syntax\n"
     ]
    }
   ],
   "source": [
    "def clean_lat_long(\n",
    "    df: Union[pd.DataFrame, dd.DataFrame],\n",
    "    column: Union[str, List[str, str]],\n",
    "    output_format: Union[\"decimal\", \"decimal_degrees\", \"degrees_and_decimal_minutes\", \"sexagesimal_degree\"]\n",
    "    split: bool = False,\n",
    ")"
   ]
  },
  {
   "cell_type": "markdown",
   "metadata": {},
   "source": [
    "# Implementation\n",
    "\n",
    "1. Create regular expressions that will match the three above formats (eg, [geopy](https://geopy.readthedocs.io/en/stable/#geopy.point.Point.from_string) [code](https://github.com/geopy/geopy/blob/1c1cfd516c095abc38fe3ff00d82071d0290edaf/geopy/point.py#L387))\n",
    "2. Extract the relevant characters\n",
    "3. Convert them to the output format"
   ]
  },
  {
   "cell_type": "markdown",
   "metadata": {
    "ExecuteTime": {
     "end_time": "2020-08-07T20:45:47.732902Z",
     "start_time": "2020-08-07T20:45:47.723757Z"
    }
   },
   "source": [
    "## Example 1\n",
    "\n",
    "| lat/long |\n",
    "| --- |\n",
    "| \"40.446° N 79.982° W\" |\n",
    "| \"40° 26.767′ N 79° 58.933′ W\" |\n",
    "| \"40° 26′ 46″ N 79° 58′ 56″ W\" |\n",
    "\n",
    "`clean_lat_long(df, \"lat/long\")`\n",
    "\n",
    "| lat | long |\n",
    "| --- | --- |\n",
    "| 40.446 | 79.982 |\n",
    "| 40.446 | 79.982 |\n",
    "| 40.446 | 79.982 |\n",
    "\n",
    "## Example 2\n",
    "\n",
    "| lat | long |\n",
    "| --- | --- |\n",
    "| \"40.446° N\" | \"79.982° W\" |\n",
    "| 40.446 | 79.982 |\n",
    "| \"40° 26′ 46″ N\" | \"79° 58′ 56″ W\" |\n",
    "\n",
    "`clean_lat_long(df, [lat, long], unify=True)`\n",
    "\n",
    "| lat/long |\n",
    "| --- |\n",
    "| \"40.446° N 79.982° W\" |\n",
    "| \"40.446° N 79.982° W\" |\n",
    "| \"40.446° N 79.982° W\" |"
   ]
  },
  {
   "cell_type": "markdown",
   "metadata": {
    "ExecuteTime": {
     "end_time": "2020-08-07T21:02:04.988833Z",
     "start_time": "2020-08-07T21:02:04.819972Z"
    }
   },
   "source": [
    "# Resources\n",
    "\n",
    "## Python\n",
    "\n",
    "* [Geopy](https://github.com/geopy/geopy/tree/3cb2113a46555b0c09554475844cafa1e4eee511): Converts a string to a latitude/longitude point [using regex](https://geopy.readthedocs.io/en/latest/#geopy.point.Point.from_string). [code](https://github.com/geopy/geopy/blob/1c1cfd516c095abc38fe3ff00d82071d0290edaf/geopy/point.py#L387)\n",
    "\n",
    "* [latlon3](https://github.com/eelcovv/LatLon): string lat/long [validate/clean](https://github.com/eelcovv/LatLon/blob/master/LatLon3/LatLon.py#L313)\n",
    "\n",
    "## Other\n",
    "\n",
    "* Regular expresions for latitude longitude [here](https://stackoverflow.com/questions/3518504/regular-expression-for-matching-latitude-longitude-coordinates)\n",
    "\n",
    "* Stackoverflow [post](https://stackoverflow.com/questions/10852955/python-batch-convert-gps-positions-to-lat-lon-decimals)\n",
    "\n",
    "# Datasets\n",
    "\n",
    "* Potential dirty [datasets](http://www.bom.gov.au/australia/stormarchive/)"
   ]
  },
  {
   "cell_type": "markdown",
   "metadata": {},
   "source": []
  }
 ],
 "metadata": {
  "hide_input": false,
  "kernelspec": {
   "display_name": "dataprep",
   "language": "python",
   "name": "dataprep"
  },
  "language_info": {
   "codemirror_mode": {
    "name": "ipython",
    "version": 3
   },
   "file_extension": ".py",
   "mimetype": "text/x-python",
   "name": "python",
   "nbconvert_exporter": "python",
   "pygments_lexer": "ipython3",
   "version": "3.8.3"
  },
  "toc": {
   "base_numbering": 1,
   "nav_menu": {},
   "number_sections": true,
   "sideBar": true,
   "skip_h1_title": false,
   "title_cell": "Table of Contents",
   "title_sidebar": "Contents",
   "toc_cell": false,
   "toc_position": {},
   "toc_section_display": true,
   "toc_window_display": false
  },
  "varInspector": {
   "cols": {
    "lenName": 16,
    "lenType": 16,
    "lenVar": 40
   },
   "kernels_config": {
    "python": {
     "delete_cmd_postfix": "",
     "delete_cmd_prefix": "del ",
     "library": "var_list.py",
     "varRefreshCmd": "print(var_dic_list())"
    },
    "r": {
     "delete_cmd_postfix": ") ",
     "delete_cmd_prefix": "rm(",
     "library": "var_list.r",
     "varRefreshCmd": "cat(var_dic_list()) "
    }
   },
   "types_to_exclude": [
    "module",
    "function",
    "builtin_function_or_method",
    "instance",
    "_Feature"
   ],
   "window_display": false
  }
 },
 "nbformat": 4,
 "nbformat_minor": 4
}
